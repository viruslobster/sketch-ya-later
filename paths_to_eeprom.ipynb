{
 "cells": [
  {
   "cell_type": "code",
   "execution_count": 30,
   "metadata": {},
   "outputs": [],
   "source": [
    "import pickle\n",
    "import sys\n",
    "import os"
   ]
  },
  {
   "cell_type": "code",
   "execution_count": 31,
   "metadata": {},
   "outputs": [],
   "source": [
    "MAX_WIDTH = 3160/2\n",
    "MAX_HEIGHT = 2107/2\n",
    "directory = 'pickleJar'\n",
    "outfile = 'eeprom.dat'"
   ]
  },
  {
   "cell_type": "code",
   "execution_count": 32,
   "metadata": {},
   "outputs": [],
   "source": [
    "path_lengths = []\n",
    "for filename in os.listdir(directory) :\n",
    "    if filename.endswith(\".pts.etch\") : \n",
    "        with open(os.path.join(directory, filename), 'rb') as path_file :\n",
    "            path = pickle.load(path_file)[0]\n",
    "            path_lengths.append(len(path))"
   ]
  },
  {
   "cell_type": "code",
   "execution_count": 33,
   "metadata": {},
   "outputs": [],
   "source": [
    "metadata = []\n",
    "metadata.append(len(path_lengths))\n",
    "metadata.append(0);\n",
    "addr = 4 + 2 * len(path_lengths)\n",
    "for path_length in path_lengths :\n",
    "    metadata.append(addr / 256)\n",
    "    metadata.append(addr % 256)\n",
    "    addr += 4 * path_length\n",
    "metadata.append(addr / 256)\n",
    "metadata.append(addr % 256)\n",
    "with open(outfile, 'wb+') as byte_file :\n",
    "    byte_file.write(bytearray(metadata))"
   ]
  },
  {
   "cell_type": "code",
   "execution_count": 34,
   "metadata": {},
   "outputs": [
    {
     "name": "stdout",
     "output_type": "stream",
     "text": [
      "[1, 0, 0, 6, 1, 14]\n"
     ]
    }
   ],
   "source": [
    "print metadata"
   ]
  },
  {
   "cell_type": "code",
   "execution_count": 35,
   "metadata": {},
   "outputs": [],
   "source": [
    "file_list = []\n",
    "for filename in os.listdir(directory) :\n",
    "    if filename.endswith(\".pts.etch\") : \n",
    "        path = []\n",
    "        file_list.append(filename)\n",
    "        with open(os.path.join(directory, filename), 'rb') as path_file :\n",
    "            path, width, height = pickle.load(path_file)\n",
    "        \n",
    "        #scale = min(1.0 * MAX_WIDTH / width, 1.0 * MAX_HEIGHT / height)\n",
    "        scale = 1\n",
    "        \n",
    "        path = list(map(lambda x: [int(x[0] * scale / 256), int(x[0] * scale % 256), int(x[1] * scale / 256), int(x[1] * scale % 256)], path))\n",
    "        flat_path = [item for sublist in path for item in sublist]\n",
    "        with open(outfile, 'ab+') as byte_file :\n",
    "            byte_file.write(bytearray(flat_path))"
   ]
  },
  {
   "cell_type": "code",
   "execution_count": 36,
   "metadata": {},
   "outputs": [],
   "source": [
    "eeprom = []\n",
    "with open(outfile, 'rb') as f:\n",
    "    eeprom = f.read()"
   ]
  },
  {
   "cell_type": "code",
   "execution_count": 37,
   "metadata": {
    "scrolled": true
   },
   "outputs": [
    {
     "name": "stdout",
     "output_type": "stream",
     "text": [
      "Decoding Image 0\n",
      "Table entry starts at 2\n",
      "Image starts at 6\n",
      "Image length is 66\n",
      "[0, 99, 4, 103]\n",
      "[0, 99, 0, 0]\n"
     ]
    }
   ],
   "source": [
    "i = 0\n",
    "j = 2*i + 2\n",
    "k = 256 * ord(eeprom[j]) + ord(eeprom[j+1])\n",
    "next_k = 256 * ord(eeprom[j+2]) + ord(eeprom[j+3])\n",
    "p_len = (next_k - k) / 4\n",
    "print \"Decoding Image \" + str(i)\n",
    "print \"Table entry starts at \" + str(j)\n",
    "print \"Image starts at \" + str(k)\n",
    "print \"Image length is \" + str(p_len)\n",
    "print map(lambda x: 256*ord(eeprom[x])+ord(eeprom[x+1]), range(k,k+8,2))\n",
    "print map(lambda x: 256*ord(eeprom[x])+ord(eeprom[x+1]), range(k+p_len*4-8,k+p_len*4,2))"
   ]
  },
  {
   "cell_type": "code",
   "execution_count": 28,
   "metadata": {},
   "outputs": [
    {
     "ename": "IOError",
     "evalue": "[Errno 2] No such file or directory: 'pickleJar/testudo.pts.etch'",
     "output_type": "error",
     "traceback": [
      "\u001b[0;31m---------------------------------------------------------------------------\u001b[0m",
      "\u001b[0;31mIOError\u001b[0m                                   Traceback (most recent call last)",
      "\u001b[0;32m<ipython-input-28-3d26903ffbaf>\u001b[0m in \u001b[0;36m<module>\u001b[0;34m()\u001b[0m\n\u001b[0;32m----> 1\u001b[0;31m \u001b[0;32mwith\u001b[0m \u001b[0mopen\u001b[0m\u001b[0;34m(\u001b[0m\u001b[0;34m'pickleJar/testudo.pts.etch'\u001b[0m\u001b[0;34m,\u001b[0m \u001b[0;34m'rb'\u001b[0m\u001b[0;34m)\u001b[0m \u001b[0;32mas\u001b[0m \u001b[0mpath_file\u001b[0m \u001b[0;34m:\u001b[0m\u001b[0;34m\u001b[0m\u001b[0m\n\u001b[0m\u001b[1;32m      2\u001b[0m             \u001b[0mpath\u001b[0m\u001b[0;34m,\u001b[0m \u001b[0mwidth\u001b[0m\u001b[0;34m,\u001b[0m \u001b[0mheight\u001b[0m \u001b[0;34m=\u001b[0m \u001b[0mpickle\u001b[0m\u001b[0;34m.\u001b[0m\u001b[0mload\u001b[0m\u001b[0;34m(\u001b[0m\u001b[0mpath_file\u001b[0m\u001b[0;34m)\u001b[0m\u001b[0;34m\u001b[0m\u001b[0m\n\u001b[1;32m      3\u001b[0m             \u001b[0;32mprint\u001b[0m \u001b[0mlen\u001b[0m\u001b[0;34m(\u001b[0m\u001b[0mpath\u001b[0m\u001b[0;34m)\u001b[0m\u001b[0;34m\u001b[0m\u001b[0m\n\u001b[1;32m      4\u001b[0m             \u001b[0;32mprint\u001b[0m \u001b[0mpath\u001b[0m\u001b[0;34m[\u001b[0m\u001b[0;36m0\u001b[0m\u001b[0;34m:\u001b[0m\u001b[0;36m2\u001b[0m\u001b[0;34m]\u001b[0m\u001b[0;34m\u001b[0m\u001b[0m\n\u001b[1;32m      5\u001b[0m             \u001b[0;32mprint\u001b[0m \u001b[0mpath\u001b[0m\u001b[0;34m[\u001b[0m\u001b[0;34m-\u001b[0m\u001b[0;36m2\u001b[0m\u001b[0;34m:\u001b[0m\u001b[0;34m]\u001b[0m\u001b[0;34m\u001b[0m\u001b[0m\n",
      "\u001b[0;31mIOError\u001b[0m: [Errno 2] No such file or directory: 'pickleJar/testudo.pts.etch'"
     ]
    }
   ],
   "source": [
    "with open('pickleJar/testudo.pts.etch', 'rb') as path_file :\n",
    "            path, width, height = pickle.load(path_file)\n",
    "            print len(path)\n",
    "            print path[0:2]\n",
    "            print path[-2:]\n",
    "            print width\n",
    "            print height"
   ]
  },
  {
   "cell_type": "code",
   "execution_count": 38,
   "metadata": {},
   "outputs": [
    {
     "data": {
      "text/plain": [
       "270"
      ]
     },
     "execution_count": 38,
     "metadata": {},
     "output_type": "execute_result"
    }
   ],
   "source": [
    "len(eeprom)"
   ]
  },
  {
   "cell_type": "code",
   "execution_count": 56,
   "metadata": {},
   "outputs": [
    {
     "data": {
      "text/plain": [
       "['gauntlet.pts.etch', 'amer_flag.pts.etch']"
      ]
     },
     "execution_count": 56,
     "metadata": {},
     "output_type": "execute_result"
    }
   ],
   "source": [
    "file_list"
   ]
  },
  {
   "cell_type": "code",
   "execution_count": null,
   "metadata": {},
   "outputs": [],
   "source": []
  }
 ],
 "metadata": {
  "kernelspec": {
   "display_name": "Python 2",
   "language": "python",
   "name": "python2"
  },
  "language_info": {
   "codemirror_mode": {
    "name": "ipython",
    "version": 2
   },
   "file_extension": ".py",
   "mimetype": "text/x-python",
   "name": "python",
   "nbconvert_exporter": "python",
   "pygments_lexer": "ipython2",
   "version": "2.7.12"
  }
 },
 "nbformat": 4,
 "nbformat_minor": 2
}
